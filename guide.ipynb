{
 "cells": [
  {
   "cell_type": "markdown",
   "id": "827e27eb",
   "metadata": {},
   "source": [
    "# 启动后端"
   ]
  },
  {
   "cell_type": "code",
   "execution_count": null,
   "id": "00130708",
   "metadata": {
    "vscode": {
     "languageId": "shellscript"
    }
   },
   "outputs": [],
   "source": [
    "uvicorn main:app --host 0.0.0.0 --port 8089 --log-level debug"
   ]
  }
 ],
 "metadata": {
  "kernelspec": {
   "display_name": "xhd",
   "language": "python",
   "name": "python3"
  },
  "language_info": {
   "codemirror_mode": {
    "name": "ipython",
    "version": 3
   },
   "file_extension": ".py",
   "mimetype": "text/x-python",
   "name": "python",
   "nbconvert_exporter": "python",
   "pygments_lexer": "ipython3",
   "version": "3.13.0"
  }
 },
 "nbformat": 4,
 "nbformat_minor": 5
}
